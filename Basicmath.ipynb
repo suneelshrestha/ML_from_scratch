{
  "nbformat": 4,
  "nbformat_minor": 0,
  "metadata": {
    "colab": {
      "provenance": [],
      "authorship_tag": "ABX9TyNNKpa30BSOKonJePJfjrQY",
      "include_colab_link": true
    },
    "kernelspec": {
      "name": "python3",
      "display_name": "Python 3"
    },
    "language_info": {
      "name": "python"
    }
  },
  "cells": [
    {
      "cell_type": "markdown",
      "metadata": {
        "id": "view-in-github",
        "colab_type": "text"
      },
      "source": [
        "<a href=\"https://colab.research.google.com/github/suneelshrestha/ML_from_scratch/blob/main/Basicmath.ipynb\" target=\"_parent\"><img src=\"https://colab.research.google.com/assets/colab-badge.svg\" alt=\"Open In Colab\"/></a>"
      ]
    },
    {
      "cell_type": "markdown",
      "source": [
        "#Basci mathmatics\n",
        "- vector\n",
        "- matrix"
      ],
      "metadata": {
        "id": "rBR58FrW7l23"
      }
    },
    {
      "cell_type": "markdown",
      "source": [
        "## vector\n"
      ],
      "metadata": {
        "id": "uHzkfJZC7vZw"
      }
    },
    {
      "cell_type": "markdown",
      "source": [
        "## euclidian distance\n",
        "**Formula :** in numoy = np.linalg.norm(p2-p1)\n",
        "  ![image.png](data:image/png;base64,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)"
      ],
      "metadata": {
        "id": "sQLU7ndiAclH"
      }
    },
    {
      "cell_type": "code",
      "source": [
        "# calculate the eculidian distance between two list\n",
        "list1 = [1,2,3]\n",
        "list2 = [4,5,6]\n",
        "\n",
        "x = sum((b-a)**2 for a,b in zip(list1,list2))**0.5\n",
        "print(\"euclidian distance between two list is: \",x)"
      ],
      "metadata": {
        "colab": {
          "base_uri": "https://localhost:8080/"
        },
        "id": "vM3ZXtD274aC",
        "outputId": "0efed174-49e3-4006-d24e-a105330a778c"
      },
      "execution_count": null,
      "outputs": [
        {
          "output_type": "stream",
          "name": "stdout",
          "text": [
            "euclidian distance between two list is:  5.196152422706632\n"
          ]
        }
      ]
    },
    {
      "cell_type": "code",
      "source": [
        "import numpy as np"
      ],
      "metadata": {
        "id": "o5yd73Wa_WmP"
      },
      "execution_count": null,
      "outputs": []
    },
    {
      "cell_type": "code",
      "source": [
        "#calculate the euclidina distane between vector using the numpy array\n",
        "p1 = np.array([1,2,3])\n",
        "p2 = np.array([4,5,6])\n",
        "\n",
        "\n",
        "x = np.linalg.norm(p2-p1)\n",
        "print(\"euclidian distance between two list is: \",x)"
      ],
      "metadata": {
        "colab": {
          "base_uri": "https://localhost:8080/"
        },
        "id": "LjxRZDTd_IHM",
        "outputId": "56c7d51a-dd4f-43e6-f587-2e5a2518cd4b"
      },
      "execution_count": null,
      "outputs": [
        {
          "output_type": "stream",
          "name": "stdout",
          "text": [
            "euclidian distance between two list is:  5.196152422706632\n"
          ]
        }
      ]
    },
    {
      "cell_type": "code",
      "source": [
        "# calculate the euclidina distance between vector with out linalg\n",
        "import numpy as np\n",
        "a = np.array((1, 2, 3))\n",
        "b = np.array((4, 5, 6))\n",
        "dist = np.sqrt((b[0] - a[0])**2 + (b[1] - a[1])**2 + (b[2] - a[2])**2)\n",
        "print(dist)\n",
        "#dist = np.sqrt(np.sum((b - a) ** 2))"
      ],
      "metadata": {
        "colab": {
          "base_uri": "https://localhost:8080/"
        },
        "id": "SIp8HH3h_my5",
        "outputId": "9341d5e5-760c-4b08-a80f-b818d49c3e05"
      },
      "execution_count": null,
      "outputs": [
        {
          "output_type": "stream",
          "name": "stdout",
          "text": [
            "5.196152422706632\n"
          ]
        }
      ]
    },
    {
      "cell_type": "markdown",
      "source": [
        "## manhattan distance\n",
        "formula = in numpy = np.linalg.norm(p2-p1 , ord=1)\n",
        "![image.png](data:image/png;base64,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)"
      ],
      "metadata": {
        "id": "wdP-tOEFAgwS"
      }
    },
    {
      "cell_type": "code",
      "source": [
        "#calculate the manhattan distane between vector using the numpy array\n",
        "p1 = np.array([1,2,3])\n",
        "p2 = np.array([4,5,6])\n",
        "\n",
        "\n",
        "x = np.linalg.norm(p2-p1,ord=1)\n",
        "print(\"manhattan distance between two list is: \",x)"
      ],
      "metadata": {
        "colab": {
          "base_uri": "https://localhost:8080/"
        },
        "id": "P5xyWLoM_4dS",
        "outputId": "d946c414-22e5-4515-e593-f6174d5f4d47"
      },
      "execution_count": null,
      "outputs": [
        {
          "output_type": "stream",
          "name": "stdout",
          "text": [
            "manhattan distance between two list is:  9.0\n"
          ]
        }
      ]
    },
    {
      "cell_type": "code",
      "source": [
        "#calculate the manhattan distane between vector using the numpy array\n",
        "p1 = np.array([1,2,3])\n",
        "p2 = np.array([4,5,6])\n",
        "\n",
        "\n",
        "x = np.sum(abs(p2-p1))\n",
        "print(\"manhattan distance between two list is: \",x)"
      ],
      "metadata": {
        "id": "N26hta1BBh9x",
        "colab": {
          "base_uri": "https://localhost:8080/"
        },
        "outputId": "edd206be-5076-4b04-ed06-bd2319c96e73"
      },
      "execution_count": null,
      "outputs": [
        {
          "output_type": "stream",
          "name": "stdout",
          "text": [
            "manhattan distance between two list is:  9\n"
          ]
        }
      ]
    },
    {
      "cell_type": "code",
      "source": [
        "#lenght or magnitude\n",
        "#formula is sqrt xa**2 + x2**2\n",
        "\n",
        "p1 = np.array([1,2,3,4])\n",
        "\n",
        "#calcualte the magnitude of p1 |p1|\n",
        "x = np.linalg.norm(p1)\n",
        "print(x)"
      ],
      "metadata": {
        "colab": {
          "base_uri": "https://localhost:8080/"
        },
        "id": "1FlVK1cnEade",
        "outputId": "b1a40811-30b6-4a65-ed30-fd524b7632f2"
      },
      "execution_count": null,
      "outputs": [
        {
          "output_type": "stream",
          "name": "stdout",
          "text": [
            "5.477225575051661\n"
          ]
        }
      ]
    },
    {
      "cell_type": "code",
      "source": [
        "#lenght or magnitude\n",
        "#formula is sqrt xa**2 + x2**2\n",
        "\n",
        "p1 = np.array([1,2,3,4])\n",
        "\n",
        "#calcualte the magnitude of p1 |p1|\n",
        "x = np.sqrt(np.sum(p1**2))\n",
        "print(x)"
      ],
      "metadata": {
        "colab": {
          "base_uri": "https://localhost:8080/"
        },
        "id": "dmkrStSyE_sA",
        "outputId": "2a39ec2a-bfe9-4ead-a67e-3a1c3a11177c"
      },
      "execution_count": null,
      "outputs": [
        {
          "output_type": "stream",
          "name": "stdout",
          "text": [
            "5.477225575051661\n"
          ]
        }
      ]
    },
    {
      "cell_type": "code",
      "source": [
        "#dot product\n",
        "p1 = np.array([1,2,3])\n",
        "p2 = np.array([4,5,6])\n",
        "\n",
        "x = np.dot(p1,p2)\n",
        "print(x)"
      ],
      "metadata": {
        "colab": {
          "base_uri": "https://localhost:8080/"
        },
        "id": "ZrSK9n-bFNwq",
        "outputId": "9bee161b-261e-4429-f13b-2e3e8a4f7e0c"
      },
      "execution_count": null,
      "outputs": [
        {
          "output_type": "stream",
          "name": "stdout",
          "text": [
            "32\n"
          ]
        }
      ]
    },
    {
      "cell_type": "markdown",
      "source": [
        "# matrix"
      ],
      "metadata": {
        "id": "0tOxPgLZNhmK"
      }
    },
    {
      "cell_type": "code",
      "source": [
        "#addition and subtraction of matrix\n",
        "p1 = np.array([(1,2,3),(6,7,8)])\n",
        "p2 = np.array([(4,5,6),(2,3,4)])\n",
        "\n",
        "#add\n",
        "sum = p1 + p2\n",
        "print(sum)\n",
        "\n",
        "#sub\n",
        "sub = p1 - p2\n",
        "print(sub)"
      ],
      "metadata": {
        "colab": {
          "base_uri": "https://localhost:8080/"
        },
        "id": "zfK6GHBVNkS0",
        "outputId": "3d07fa0d-fcf1-40d5-8130-a7c95f13c664"
      },
      "execution_count": null,
      "outputs": [
        {
          "output_type": "stream",
          "name": "stdout",
          "text": [
            "[[ 5  7  9]\n",
            " [ 8 10 12]]\n",
            "[[-3 -3 -3]\n",
            " [ 4  4  4]]\n"
          ]
        }
      ]
    },
    {
      "cell_type": "code",
      "source": [
        "#dot product , second matrix should have the same no of rows as the same no of columns first matrix\n",
        "p1 = np.array([(1,2,3),(6,7,8)])\n",
        "p2 = np.array([(4,5,6),(2,3,4),(4,8,1)])\n",
        "\n",
        "dot_p = np.dot(p1,p2)\n",
        "print(dot_p)"
      ],
      "metadata": {
        "colab": {
          "base_uri": "https://localhost:8080/"
        },
        "id": "67Z1Mp9hN2D6",
        "outputId": "e310a346-b055-4116-fafd-34ebedcecfd4"
      },
      "execution_count": 73,
      "outputs": [
        {
          "output_type": "stream",
          "name": "stdout",
          "text": [
            "[[ 20  35  17]\n",
            " [ 70 115  72]]\n"
          ]
        }
      ]
    },
    {
      "cell_type": "code",
      "source": [
        "# determinant of matrix\n",
        "p1 = np.array([(3,2),(6,7)])\n",
        "\n",
        "det = np.linalg.det(p1)\n",
        "print(det)\n"
      ],
      "metadata": {
        "colab": {
          "base_uri": "https://localhost:8080/"
        },
        "id": "Izq-jvd9OOdJ",
        "outputId": "ce4f6739-13fa-4ae8-9a91-b15dbf0c8cbc"
      },
      "execution_count": null,
      "outputs": [
        {
          "output_type": "stream",
          "name": "stdout",
          "text": [
            "8.999999999999998\n"
          ]
        }
      ]
    },
    {
      "cell_type": "code",
      "source": [
        "# inverse of the matrix\n",
        "inv = np.linalg.inv(p1)\n",
        "print(inv)"
      ],
      "metadata": {
        "colab": {
          "base_uri": "https://localhost:8080/"
        },
        "id": "Mtk4k2gwOvge",
        "outputId": "3003200a-bd50-4301-a848-96debd0f028a"
      },
      "execution_count": null,
      "outputs": [
        {
          "output_type": "stream",
          "name": "stdout",
          "text": [
            "[[ 0.77777778 -0.22222222]\n",
            " [-0.66666667  0.33333333]]\n"
          ]
        }
      ]
    },
    {
      "cell_type": "code",
      "source": [
        "#transpose of matrix\n",
        "tran = p1.T\n",
        "print(tran)"
      ],
      "metadata": {
        "colab": {
          "base_uri": "https://localhost:8080/"
        },
        "id": "vbXn9OPGO_UX",
        "outputId": "1f2ed024-1d5b-4462-a582-ec52eff91141"
      },
      "execution_count": null,
      "outputs": [
        {
          "output_type": "stream",
          "name": "stdout",
          "text": [
            "[[3 6]\n",
            " [2 7]]\n"
          ]
        }
      ]
    },
    {
      "cell_type": "code",
      "source": [
        "#input the matrix col and their values and do some operation\n",
        "matrixA = []\n",
        "matrixB = []\n",
        "rows1 = int(input(\"Enter the no of rows of matrix A: \"))\n",
        "cols1 = int(input(\"Enter the no of cols of matrix A: \"))\n",
        "\n",
        "#get input for matrix 1\n",
        "for i in range(rows1):\n",
        "  r=[]\n",
        "  for j in range(cols1):\n",
        "    v = int(input(f\"Enter the values for matrix A: \"))\n",
        "    r.append(v)\n",
        "  matrixA.append(r)\n",
        "\n",
        "\n",
        "rows2 = int(input(\"\\nEnter the no of rows of matrix B: \"))\n",
        "cols2 = int(input(\"Enter the no of cols of matrix B: \"))\n",
        "\n",
        "#get input fro matrix 2\n",
        "for i in range(rows2):\n",
        "  r=[]\n",
        "  for j in range(cols2):\n",
        "    v = int(input(f\"Enter the values for matrix B: \"))\n",
        "    r.append(v)\n",
        "\n",
        "  matrixB.append(r)\n",
        "\n",
        "matrixA = np.asarray(matrixA)\n",
        "matrixB = np.asarray(matrixB)\n",
        "\n",
        "print(\"\\nmatrix A:\\n\",matrixA)\n",
        "print(\"\\nmatrix B:\\n\",matrixB,\"\\n\")\n",
        "\n",
        "\n",
        "#function to perform addition\n",
        "def sum():\n",
        "  print(\"\\nThe addition of two matrix is:\\n\",matrixA + matrixB,\"\\n\")\n",
        "\n",
        "#function to perform subtraction\n",
        "def sub():\n",
        "  print(\"\\nThe subtraction of two matrix is:\\n\",matrixA - matrixB,\"\\n\")\n",
        "\n",
        "#function to perform multiplication\n",
        "def mul():\n",
        "  print(\"\\nThe multiplication of two matrix is:\\n\",np.multiply(matrixA,matrixB),\"\\n\")\n",
        "\n",
        "#function to perform dotproduct\n",
        "def dot():\n",
        "  print(\"\\nThe dot product of two matrix is:\\n\",np.dot(matrixA,matrixB),\"\\n\")\n",
        "\n",
        "\n",
        "\n",
        "\n",
        "while True:\n",
        "  print(\"\\n-----Select the operation to perform-----\\n\")\n",
        "  print(\"1.Addition\")\n",
        "  print(\"2.Subtraction\")\n",
        "  print(\"3.Multiplication\")\n",
        "  print(\"4.Dot product\")\n",
        "  print(\"5.Exit\\n\")\n",
        "\n",
        "  num = int(input((\"Enter the your choice:\")))\n",
        "\n",
        "  if num == 1:\n",
        "    if(rows1 != rows2 or cols1 != cols2):\n",
        "      print(\"\\nCannot perform addition as it has different dimensions\")\n",
        "      continue\n",
        "    else:\n",
        "      sum()\n",
        "  elif num == 2:\n",
        "    if(rows1 != rows2 or cols1 != cols2):\n",
        "      print(\"\\nCannot perform subtraction as it has different dimensions\")\n",
        "      continue\n",
        "    else:\n",
        "      sub()\n",
        "  elif num == 3:\n",
        "    if(cols1 != rows2 or cols1 != cols2):\n",
        "      print(\"\\nCannot perform mulitplication Columns of A must be equal to rows of B.\")\n",
        "      continue\n",
        "    else:\n",
        "      mul()\n",
        "  elif num == 4:\n",
        "    if(cols1 != rows2):\n",
        "      print(\"\\nCannot perform mulitplication Columns of A must be equal to rows of B.\")\n",
        "      continue\n",
        "    else:\n",
        "      dot()\n",
        "  elif num == 5:\n",
        "    print(\"\\n----Terminated----\\n\")\n",
        "    break\n",
        "  else:\n",
        "    print(\"valid number\")\n",
        "    continue\n",
        "\n",
        "\n",
        "\n",
        "\n"
      ],
      "metadata": {
        "colab": {
          "base_uri": "https://localhost:8080/"
        },
        "id": "0p_UMLvIPNty",
        "outputId": "30496292-853e-479c-baa0-72881baff57d"
      },
      "execution_count": 74,
      "outputs": [
        {
          "output_type": "stream",
          "name": "stdout",
          "text": [
            "Enter the no of rows of matrix A: 2\n",
            "Enter the no of cols of matrix A: 3\n",
            "Enter the values for matrix A: 5\n",
            "Enter the values for matrix A: 6\n",
            "Enter the values for matrix A: 8\n",
            "Enter the values for matrix A: 3\n",
            "Enter the values for matrix A: 1\n",
            "Enter the values for matrix A: 3\n",
            "\n",
            "Enter the no of rows of matrix B: 2\n",
            "Enter the no of cols of matrix B: 3\n",
            "Enter the values for matrix B: 7\n",
            "Enter the values for matrix B: 5\n",
            "Enter the values for matrix B: 9\n",
            "Enter the values for matrix B: 5\n",
            "Enter the values for matrix B: 3\n",
            "Enter the values for matrix B: 2\n",
            "\n",
            "matrix A:\n",
            " [[5 6 8]\n",
            " [3 1 3]]\n",
            "\n",
            "matrix B:\n",
            " [[7 5 9]\n",
            " [5 3 2]] \n",
            "\n",
            "\n",
            "-----Select the operation to perform-----\n",
            "\n",
            "1.Addition\n",
            "2.Subtraction\n",
            "3.Multiplication\n",
            "4.Dot product\n",
            "5.Exit\n",
            "\n",
            "Enter the your choice:1\n",
            "The addition of two matrix is:\n",
            " [[12 11 17]\n",
            " [ 8  4  5]] \n",
            "\n",
            "\n",
            "-----Select the operation to perform-----\n",
            "\n",
            "1.Addition\n",
            "2.Subtraction\n",
            "3.Multiplication\n",
            "4.Dot product\n",
            "5.Exit\n",
            "\n",
            "Enter the your choice:2\n",
            "The subtraction of two matrix is:\n",
            " [[-2  1 -1]\n",
            " [-2 -2  1]] \n",
            "\n",
            "\n",
            "-----Select the operation to perform-----\n",
            "\n",
            "1.Addition\n",
            "2.Subtraction\n",
            "3.Multiplication\n",
            "4.Dot product\n",
            "5.Exit\n",
            "\n",
            "Enter the your choice:3\n",
            "\n",
            "Cannot perform mulitplication Columns of A must be equal to rows of B. 3 3\n",
            "\n",
            "-----Select the operation to perform-----\n",
            "\n",
            "1.Addition\n",
            "2.Subtraction\n",
            "3.Multiplication\n",
            "4.Dot product\n",
            "5.Exit\n",
            "\n",
            "Enter the your choice:4\n",
            "\n",
            "Cannot perform mulitplication Columns of A must be equal to rows of B.\n",
            "\n",
            "-----Select the operation to perform-----\n",
            "\n",
            "1.Addition\n",
            "2.Subtraction\n",
            "3.Multiplication\n",
            "4.Dot product\n",
            "5.Exit\n",
            "\n",
            "Enter the your choice:5\n",
            "----Terminate--\n"
          ]
        }
      ]
    },
    {
      "cell_type": "code",
      "source": [],
      "metadata": {
        "id": "AW8nqXBfQ0GE"
      },
      "execution_count": null,
      "outputs": []
    }
  ]
}