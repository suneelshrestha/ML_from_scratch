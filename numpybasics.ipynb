{
  "nbformat": 4,
  "nbformat_minor": 0,
  "metadata": {
    "colab": {
      "provenance": [],
      "authorship_tag": "ABX9TyOeHrBHHZ53kMYCYkkB9P8i",
      "include_colab_link": true
    },
    "kernelspec": {
      "name": "python3",
      "display_name": "Python 3"
    },
    "language_info": {
      "name": "python"
    }
  },
  "cells": [
    {
      "cell_type": "markdown",
      "metadata": {
        "id": "view-in-github",
        "colab_type": "text"
      },
      "source": [
        "<a href=\"https://colab.research.google.com/github/suneelshrestha/ML_from_scratch/blob/main/numpybasics.ipynb\" target=\"_parent\"><img src=\"https://colab.research.google.com/assets/colab-badge.svg\" alt=\"Open In Colab\"/></a>"
      ]
    },
    {
      "cell_type": "markdown",
      "source": [
        "### Numpy Basics\n",
        "\n",
        "\n",
        "*   Creating array\n",
        "*   Indexing\n",
        "*   Slicing\n",
        "*   reshape\n",
        "*   manupulation\n",
        "*   search\n",
        "*   filter\n",
        "*   sort\n",
        "\n"
      ],
      "metadata": {
        "id": "J7Ur_CFO7Yne"
      }
    },
    {
      "cell_type": "markdown",
      "source": [
        "## Creating array\n"
      ],
      "metadata": {
        "id": "WOFwgR-l71op"
      }
    },
    {
      "cell_type": "code",
      "source": [
        "import numpy as np\n",
        "\n",
        "#creating numpy array based on our input elem\n",
        "arr = np.array([1,2,3])\n",
        "\n",
        "print(arr)"
      ],
      "metadata": {
        "colab": {
          "base_uri": "https://localhost:8080/"
        },
        "id": "ZeXo3plc74bO",
        "outputId": "2875ffd6-715d-408e-c6fc-e14167a7d18c"
      },
      "execution_count": 15,
      "outputs": [
        {
          "output_type": "stream",
          "name": "stdout",
          "text": [
            "[1 2 3]\n"
          ]
        }
      ]
    },
    {
      "cell_type": "code",
      "source": [
        "#creating multiple rows and cols\n",
        "arr = np.array([(1,2,3),(4,5,6)])\n",
        "\n",
        "print(arr)\n",
        "print(arr.ndim)"
      ],
      "metadata": {
        "colab": {
          "base_uri": "https://localhost:8080/"
        },
        "id": "0WkiAIHl8F0e",
        "outputId": "185ea7dc-a724-44c8-bedf-f586a346c1ff"
      },
      "execution_count": 20,
      "outputs": [
        {
          "output_type": "stream",
          "name": "stdout",
          "text": [
            "[[1 2 3]\n",
            " [4 5 6]]\n",
            "2\n"
          ]
        }
      ]
    },
    {
      "cell_type": "code",
      "source": [
        "#creating array with all zeros\n",
        "#this will create float arrays\n",
        "arr = np.zeros((3,3))\n",
        "\n",
        "#this will create int type array\n",
        "arr1 = np.zeros((3,3),dtype=int)\n",
        "\n",
        "print(arr)\n",
        "print(arr1)"
      ],
      "metadata": {
        "colab": {
          "base_uri": "https://localhost:8080/"
        },
        "id": "UJAraDkm8TbU",
        "outputId": "cc53cd3e-64df-4a1c-b7ab-4d0967d939dc"
      },
      "execution_count": 23,
      "outputs": [
        {
          "output_type": "stream",
          "name": "stdout",
          "text": [
            "[[0. 0. 0.]\n",
            " [0. 0. 0.]\n",
            " [0. 0. 0.]]\n",
            "[[0 0 0]\n",
            " [0 0 0]\n",
            " [0 0 0]]\n"
          ]
        }
      ]
    },
    {
      "cell_type": "code",
      "source": [
        "#create array with ones\n",
        "arr = np.ones((3,3))\n",
        "\n",
        "print(arr)"
      ],
      "metadata": {
        "colab": {
          "base_uri": "https://localhost:8080/"
        },
        "id": "7i6Bl1dX-TFr",
        "outputId": "f876a5d2-8865-45f1-c1ea-5683c4828568"
      },
      "execution_count": 24,
      "outputs": [
        {
          "output_type": "stream",
          "name": "stdout",
          "text": [
            "[[1. 1. 1.]\n",
            " [1. 1. 1.]\n",
            " [1. 1. 1.]]\n"
          ]
        }
      ]
    },
    {
      "cell_type": "code",
      "source": [
        "#create an array with specific element only\n",
        "arr = np.full((3,4),5)\n",
        "\n",
        "print(arr)"
      ],
      "metadata": {
        "colab": {
          "base_uri": "https://localhost:8080/"
        },
        "id": "wTr5EIht_CI6",
        "outputId": "5882c5ac-e9a4-476a-fd4b-8481186ad988"
      },
      "execution_count": 30,
      "outputs": [
        {
          "output_type": "stream",
          "name": "stdout",
          "text": [
            "[[5 5 5 5]\n",
            " [5 5 5 5]\n",
            " [5 5 5 5]]\n"
          ]
        }
      ]
    },
    {
      "cell_type": "code",
      "source": [
        "#create identity array\n",
        "arr = np.eye((5))\n",
        "print(arr)"
      ],
      "metadata": {
        "colab": {
          "base_uri": "https://localhost:8080/"
        },
        "id": "4lNWv8fz-cQC",
        "outputId": "50382366-2b9d-49c8-d931-3a359eb927c7"
      },
      "execution_count": 26,
      "outputs": [
        {
          "output_type": "stream",
          "name": "stdout",
          "text": [
            "[[1. 0. 0. 0. 0.]\n",
            " [0. 1. 0. 0. 0.]\n",
            " [0. 0. 1. 0. 0.]\n",
            " [0. 0. 0. 1. 0.]\n",
            " [0. 0. 0. 0. 1.]]\n"
          ]
        }
      ]
    },
    {
      "cell_type": "markdown",
      "source": [
        "##random array\n"
      ],
      "metadata": {
        "id": "EN3fsd-rL0sk"
      }
    },
    {
      "cell_type": "code",
      "source": [
        "#create a random array\n",
        "#this will create array of size in the float and in the range of 0 to 1\n",
        "arr = np.random.rand(4,5)\n",
        "print(arr)\n",
        "\n",
        "\n",
        "#the seed will make the element same every time\n",
        "arr = np.random.seed(80)\n",
        "arr = np.random.random((4,5))\n",
        "\n",
        "print(arr)"
      ],
      "metadata": {
        "colab": {
          "base_uri": "https://localhost:8080/"
        },
        "id": "46TgTzSt-m8-",
        "outputId": "187b6e30-da75-495b-96cb-e6bcf3ff8f95"
      },
      "execution_count": 96,
      "outputs": [
        {
          "output_type": "stream",
          "name": "stdout",
          "text": [
            "[[0.63777353 0.63784599 0.14176518 0.35566774 0.51365124]\n",
            " [0.22176798 0.70747525 0.43383946 0.11841143 0.0081044 ]\n",
            " [0.77802056 0.71868497 0.85399514 0.05228477 0.34057066]\n",
            " [0.73234244 0.28141507 0.44264103 0.33531462 0.09480884]]\n",
            "[[0.52191572 0.69940637 0.26986897 0.67448187 0.90807208]\n",
            " [0.6851502  0.21165334 0.31726607 0.2672994  0.12050632]\n",
            " [0.9968569  0.08043969 0.28459975 0.5352502  0.84580211]\n",
            " [0.20012414 0.81204355 0.37293679 0.80964124 0.01199526]]\n"
          ]
        }
      ]
    },
    {
      "cell_type": "code",
      "source": [
        "#create a random array with int value\n",
        "arr = np.random.randint(10,90,(4,5))\n",
        "\n",
        "print(arr)"
      ],
      "metadata": {
        "colab": {
          "base_uri": "https://localhost:8080/"
        },
        "id": "SMXTQPlQ-xmd",
        "outputId": "014eea68-503c-450a-b3d3-ec96cecf1a37"
      },
      "execution_count": 95,
      "outputs": [
        {
          "output_type": "stream",
          "name": "stdout",
          "text": [
            "[[49 61 60 56 19]\n",
            " [34 34 11 27 64]\n",
            " [26 51 30 41 34]\n",
            " [77 18 56 77 36]]\n"
          ]
        }
      ]
    },
    {
      "cell_type": "code",
      "source": [
        "#create array with specifci range and specific element\n",
        "#that means make array of range 0,10,no_of_element_or_half\n",
        "\n",
        "#this will devide the range in 7 parts\n",
        "arr = np.linspace(0,10,7,dtype=int)\n",
        "\n",
        "print(arr)"
      ],
      "metadata": {
        "colab": {
          "base_uri": "https://localhost:8080/"
        },
        "id": "tM_3lTaFIzXo",
        "outputId": "6b49045b-bb01-4064-c21f-5c88b4449f42"
      },
      "execution_count": 77,
      "outputs": [
        {
          "output_type": "stream",
          "name": "stdout",
          "text": [
            "[ 0  1  3  5  6  8 10]\n"
          ]
        }
      ]
    },
    {
      "cell_type": "code",
      "source": [
        "#creating array fo specific range with specific diff\n",
        "#this will create the array element possible from 1 to 90 with difference with 10\n",
        "arr = np.arange(1,90, 10)\n",
        "\n",
        "print(arr)"
      ],
      "metadata": {
        "colab": {
          "base_uri": "https://localhost:8080/"
        },
        "id": "Tfso-EH7JTy1",
        "outputId": "eb14d574-2ba5-4db7-b41d-37f91ca86a10"
      },
      "execution_count": 78,
      "outputs": [
        {
          "output_type": "stream",
          "name": "stdout",
          "text": [
            "[ 1 11 21 31 41 51 61 71 81]\n"
          ]
        }
      ]
    },
    {
      "cell_type": "code",
      "source": [
        "#conver the list to the nparray\n",
        "list1 = [1,2,3,4,5]\n",
        "print(\"list: \",list1)\n",
        "print(type(list1))\n",
        "\n",
        "#convet the list to np array\n",
        "\n",
        "arr = np.asarray(list1)\n",
        "print(\"\\nafter coveting\")\n",
        "print(\"list: \",arr)\n",
        "print(type(arr))"
      ],
      "metadata": {
        "colab": {
          "base_uri": "https://localhost:8080/"
        },
        "id": "ddlSUqyMJono",
        "outputId": "ecc21e4f-9d8e-463e-e022-1bf4d1fc7ecf"
      },
      "execution_count": 83,
      "outputs": [
        {
          "output_type": "stream",
          "name": "stdout",
          "text": [
            "list:  [1, 2, 3, 4, 5]\n",
            "<class 'list'>\n",
            "\n",
            "after coveting\n",
            "list:  [1 2 3 4 5]\n",
            "<class 'numpy.ndarray'>\n"
          ]
        }
      ]
    },
    {
      "cell_type": "markdown",
      "source": [
        "## indexing\n",
        "reading the value from the specific index and put value in that place etx"
      ],
      "metadata": {
        "id": "WjhrtFPz_auO"
      }
    },
    {
      "cell_type": "code",
      "source": [
        "#reading the value from speicifc index\n",
        "arr = np.array([1,2,3,4,5,6])\n",
        "\n",
        "#reading the value from the index 4\n",
        "print(arr[4])"
      ],
      "metadata": {
        "colab": {
          "base_uri": "https://localhost:8080/"
        },
        "id": "wTgjExmM_lqP",
        "outputId": "0a1075fe-4ea7-4a1e-f34d-183879b14dec"
      },
      "execution_count": 31,
      "outputs": [
        {
          "output_type": "stream",
          "name": "stdout",
          "text": [
            "5\n"
          ]
        }
      ]
    },
    {
      "cell_type": "code",
      "source": [
        "#replaicng the value in the spcific index\n",
        "arr = np.array([1,2,3,4,5])\n",
        "print(\"before replacing: \",arr)\n",
        "\n",
        "#replace the value in index 4\n",
        "arr[2]=58\n",
        "print(\"before replacing: \",arr)"
      ],
      "metadata": {
        "colab": {
          "base_uri": "https://localhost:8080/"
        },
        "id": "pHLxaINP_x1V",
        "outputId": "87472799-c8bf-400c-c460-987d48344baa"
      },
      "execution_count": 35,
      "outputs": [
        {
          "output_type": "stream",
          "name": "stdout",
          "text": [
            "before replacing:  [1 2 3 4 5]\n",
            "before replacing:  [ 1  2 58  4  5]\n"
          ]
        }
      ]
    },
    {
      "cell_type": "markdown",
      "source": [
        "## slicing\n",
        "In this slicing we will slice the array form certain index"
      ],
      "metadata": {
        "id": "t7fo2DXmAnTC"
      }
    },
    {
      "cell_type": "code",
      "source": [
        "#read the array from the specific index\n",
        "arr = np.array([1,2,3,4,5,6])\n",
        "\n",
        "#print the element from the beginning to the index of the 4\n",
        "print(arr[:4])\n",
        "\n",
        "#print the element from the index 1 to the index of the 4\n",
        "print(arr[1:4])\n",
        "\n",
        "#print the element from the index 1 to the last index\n",
        "print(arr[3:])"
      ],
      "metadata": {
        "colab": {
          "base_uri": "https://localhost:8080/"
        },
        "id": "rl3Rd_11A_rJ",
        "outputId": "2258fc91-6a16-43c7-850b-a4c3efd31db5"
      },
      "execution_count": 41,
      "outputs": [
        {
          "output_type": "stream",
          "name": "stdout",
          "text": [
            "[1 2 3 4]\n",
            "[2 3 4]\n",
            "[4 5 6]\n"
          ]
        }
      ]
    },
    {
      "cell_type": "markdown",
      "source": [
        "## reshape\n",
        "here we will find the shape of the array and reshapre them"
      ],
      "metadata": {
        "id": "A_NxSnyJEgdC"
      }
    },
    {
      "cell_type": "code",
      "source": [
        "#print the shape of the array\n",
        "arr = np.array([1,2,3,4])\n",
        "\n",
        "#the shape will be 2,3 that is two rows and three columns\n",
        "arr = np.array([(91,2,3),(5,6,7)])\n",
        "print(\"before reshape: \")\n",
        "print(arr.shape)\n",
        "print(arr)\n",
        "\n",
        "#now reshape the array\n",
        "newarr=arr.reshape(3,2)\n",
        "print(\"\\nafter reshape\")\n",
        "print(newarr.shape)\n",
        "print(newarr)"
      ],
      "metadata": {
        "colab": {
          "base_uri": "https://localhost:8080/"
        },
        "id": "3WN9AStqEqIK",
        "outputId": "501319d2-b05d-446b-ff71-b3ba81f402bf"
      },
      "execution_count": 53,
      "outputs": [
        {
          "output_type": "stream",
          "name": "stdout",
          "text": [
            "before reshape: \n",
            "(2, 3)\n",
            "[[91  2  3]\n",
            " [ 5  6  7]]\n",
            "\n",
            "after reshape\n",
            "(3, 2)\n",
            "[[91  2]\n",
            " [ 3  5]\n",
            " [ 6  7]]\n"
          ]
        }
      ]
    },
    {
      "cell_type": "markdown",
      "source": [
        "##iterating through the element of the array\n"
      ],
      "metadata": {
        "id": "zO9DQZivFsBT"
      }
    },
    {
      "cell_type": "code",
      "source": [
        "#iterate through each element in array\n",
        "\n",
        "arr = np.array([1,2,3,4,5])\n",
        "arr1 = np.array([[1,2,3,4],[4,5,6,7]])\n",
        "\n",
        "#this will print all the element in the array\n",
        "for char in arr1:\n",
        "  print(arr1)"
      ],
      "metadata": {
        "colab": {
          "base_uri": "https://localhost:8080/"
        },
        "id": "p-f35Zg1FwKb",
        "outputId": "817846f8-255b-4ce0-840c-ebf1bb477224"
      },
      "execution_count": 60,
      "outputs": [
        {
          "output_type": "stream",
          "name": "stdout",
          "text": [
            "[[1 2 3 4]\n",
            " [4 5 6 7]]\n",
            "[[1 2 3 4]\n",
            " [4 5 6 7]]\n"
          ]
        }
      ]
    },
    {
      "cell_type": "code",
      "source": [
        "#create new copy from the existing array\n",
        "\n",
        "arr = np.array([1,2,3,4,5])\n",
        "new_arr = arr.copy()\n",
        "print(new_arr)\n"
      ],
      "metadata": {
        "colab": {
          "base_uri": "https://localhost:8080/"
        },
        "id": "qbpWEIwKF640",
        "outputId": "0b01c37d-2b07-41f8-861f-69e681ac28de"
      },
      "execution_count": 62,
      "outputs": [
        {
          "output_type": "stream",
          "name": "stdout",
          "text": [
            "[1 2 3 4 5]\n"
          ]
        }
      ]
    },
    {
      "cell_type": "code",
      "source": [
        "#reverse array\n",
        "arr = np.array([1,2,3,4,5])\n",
        "rev = np.flip(arr)\n",
        "\n",
        "print(rev)"
      ],
      "metadata": {
        "colab": {
          "base_uri": "https://localhost:8080/"
        },
        "id": "bhA_75aTGtK1",
        "outputId": "e82890bd-3b30-4970-8a4d-f5534aaedba8"
      },
      "execution_count": 63,
      "outputs": [
        {
          "output_type": "stream",
          "name": "stdout",
          "text": [
            "[5 4 3 2 1]\n"
          ]
        }
      ]
    },
    {
      "cell_type": "markdown",
      "source": [
        "## searching sorting"
      ],
      "metadata": {
        "id": "DEJfXRlwHKTI"
      }
    },
    {
      "cell_type": "code",
      "source": [
        "#search the value in the array\n",
        "\n",
        "arr = np.array([1,2,3,4,5,2])\n",
        "\n",
        "#give the index of the value 3\n",
        "x = np.where(arr == 3)\n",
        "print(x)\n",
        "\n",
        "#give the index of the element that is even\n",
        "x = np.where(arr % 2 == 0)\n",
        "print(x)\n",
        "#print the even no from the provide index\n",
        "print(arr[x])\n",
        "\n",
        "#find the index of the element we want to find\n",
        "y = np.searchsorted(arr,5)\n",
        "print(y)"
      ],
      "metadata": {
        "colab": {
          "base_uri": "https://localhost:8080/"
        },
        "id": "RWgX-XEqHOXS",
        "outputId": "5117cfe3-0b15-4a03-af69-1f4ce0a53221"
      },
      "execution_count": 71,
      "outputs": [
        {
          "output_type": "stream",
          "name": "stdout",
          "text": [
            "(array([2]),)\n",
            "(array([1, 3, 5]),)\n",
            "[2 4 2]\n",
            "6\n"
          ]
        }
      ]
    },
    {
      "cell_type": "code",
      "source": [
        "# sorting array\n",
        "arr = np.array([9,4,7,2,4,1])\n",
        "print(np.sort(arr))"
      ],
      "metadata": {
        "colab": {
          "base_uri": "https://localhost:8080/"
        },
        "id": "sg6RijOjHfsS",
        "outputId": "1d5a7e98-fce9-4a1e-9df4-e6985d81a17e"
      },
      "execution_count": 70,
      "outputs": [
        {
          "output_type": "stream",
          "name": "stdout",
          "text": [
            "[1 2 4 4 7 9]\n"
          ]
        }
      ]
    },
    {
      "cell_type": "code",
      "source": [
        "# split the array\n",
        "arr = np.array([1,2,3,4,5])\n",
        "print(np.array_split(arr,3))"
      ],
      "metadata": {
        "colab": {
          "base_uri": "https://localhost:8080/"
        },
        "id": "2CNP1KpOH6kw",
        "outputId": "79302d36-5b69-4780-d1ca-a0937f1e0d4f"
      },
      "execution_count": 73,
      "outputs": [
        {
          "output_type": "stream",
          "name": "stdout",
          "text": [
            "[array([1, 2]), array([3, 4]), array([5])]\n"
          ]
        }
      ]
    },
    {
      "cell_type": "code",
      "source": [],
      "metadata": {
        "id": "EcJejOytIqwk"
      },
      "execution_count": null,
      "outputs": []
    }
  ]
}